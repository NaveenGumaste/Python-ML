{
 "cells": [
  {
   "cell_type": "code",
   "execution_count": 12,
   "metadata": {},
   "outputs": [
    {
     "name": "stdout",
     "output_type": "stream",
     "text": [
      "Mean Squared Error (Y1): 0.6177376695367824\n",
      "Mean Squared Error (Y2): 2.4163568251074383\n"
     ]
    }
   ],
   "source": [
    "import pandas as pd\n",
    "import numpy as np\n",
    "from sklearn.linear_model import LinearRegression\n",
    "from sklearn.model_selection import train_test_split\n",
    "from sklearn.metrics import mean_squared_error\n",
    "\n",
    "num_samples = 50\n",
    "np.random.seed(42)\n",
    "x1 = np.random.rand(num_samples) * 10\n",
    "x2 = np.random.rand(num_samples) * 5\n",
    "x3 = np.random.rand(num_samples) * 3\n",
    "y1 = 2 * x1 + 3 * x2 - 4 * x3 + np.random.normal(0, 1, num_samples)\n",
    "y2 = -x1 + 4 * x2 + 2 * x3 + np.random.normal(0, 1, num_samples)\n",
    "\n",
    "data = pd.DataFrame({'x1': x1, 'x2': x2, 'x3': x3, 'y1': y1, 'y2': y2})\n",
    "\n",
    "train_data, test_data = train_test_split(data, test_size=0.2, random_state=42)\n",
    "\n",
    "X_train = train_data[['x1', 'x2', 'x3']]\n",
    "y_train = train_data[['y1', 'y2']]\n",
    "X_test = test_data[['x1', 'x2', 'x3']]\n",
    "y_test = test_data[['y1', 'y2']]\n",
    "\n",
    "model = LinearRegression()\n",
    "model.fit(X_train, y_train)\n",
    "\n",
    "predictions = model.predict(X_test)\n",
    "\n",
    "mse_y1 = mean_squared_error(y_test['y1'], predictions[:, 0])\n",
    "mse_y2 = mean_squared_error(y_test['y2'], predictions[:, 1])\n",
    "print(f\"Mean Squared Error (Y1): {mse_y1}\")\n",
    "print(f\"Mean Squared Error (Y2): {mse_y2}\")\n",
    "\n",
    "predictions_df = pd.DataFrame(predictions, columns=['predicted_y1', 'predicted_y2'])\n",
    "predictions_df.to_csv('MV_linear_regression.csv', index=False)\n"
   ]
  },
  {
   "cell_type": "code",
   "execution_count": 27,
   "metadata": {},
   "outputs": [
    {
     "name": "stdout",
     "output_type": "stream",
     "text": [
      "Mean Squared Error (Y1): 0.6177376695367824\n",
      "Mean Squared Error (Y2): 2.4163568251074383\n"
     ]
    },
    {
     "data": {
      "image/png": "[encoded data removed]",
      "text/plain": [
       "<Figure size 640x480 with 1 Axes>"
      ]
     },
     "metadata": {},
     "output_type": "display_data"
    }
   ],
   "source": [
    "import pandas as pd\n",
    "import numpy as np\n",
    "import matplotlib.pyplot as plt\n",
    "from sklearn.linear_model import LinearRegression\n",
    "from sklearn.model_selection import train_test_split\n",
    "from sklearn.metrics import mean_squared_error\n",
    "\n",
    "num_samples = 50\n",
    "np.random.seed(42)\n",
    "x1 = np.random.rand(num_samples) * 10\n",
    "x2 = np.random.rand(num_samples) * 5\n",
    "x3 = np.random.rand(num_samples) * 3\n",
    "y1 = 2 * x1 + 3 * x2 - 4 * x3 + np.random.normal(0, 1, num_samples)\n",
    "y2 = -x1 + 4 * x2 + 2 * x3 + np.random.normal(0, 1, num_samples)\n",
    "\n",
    "data = pd.DataFrame({'x1': x1, 'x2': x2, 'x3': x3, 'y1': y1, 'y2': y2})\n",
    "\n",
    "train_data, test_data = train_test_split(data, test_size=0.2, random_state=42)\n",
    "\n",
    "X_train = train_data[['x1', 'x2', 'x3']]\n",
    "y_train = train_data[['y1', 'y2']]\n",
    "X_test = test_data[['x1', 'x2', 'x3']]\n",
    "y_test = test_data[['y1', 'y2']]\n",
    "\n",
    "model = LinearRegression()\n",
    "model.fit(X_train, y_train)\n",
    "\n",
    "predictions = model.predict(X_test)\n",
    "\n",
    "mse_y1 = mean_squared_error(y_test['y1'], predictions[:, 0])\n",
    "mse_y2 = mean_squared_error(y_test['y2'], predictions[:, 1])\n",
    "print(f\"Mean Squared Error (Y1): {mse_y1}\")\n",
    "print(f\"Mean Squared Error (Y2): {mse_y2}\")\n",
    "\n",
    "\n",
    "predictions_df = pd.DataFrame(predictions, columns=['predicted_y1', 'predicted_y2'])\n",
    "predictions_df.to_csv('MV_linear_regression.csv', index=False)\n",
    "\n",
    "plt.scatter(y_test['y1'], predictions[:, 0], label='Y1')\n",
    "plt.scatter(y_test['y2'], predictions[:, 1], label='Y2')\n",
    "plt.xlabel('Actual')\n",
    "plt.ylabel('Predicted')\n",
    "plt.title('Scatter Plot of Actual vs Predicted')\n",
    "plt.legend()\n",
    "plt.show()\n"
   ]
  }
 ],
 "metadata": {
  "kernelspec": {
   "display_name": "Python 3",
   "language": "python",
   "name": "python3"
  },
  "language_info": {
   "codemirror_mode": {
    "name": "ipython",
    "version": 3
   },
   "file_extension": ".py",
   "mimetype": "text/x-python",
   "name": "python",
   "nbconvert_exporter": "python",
   "pygments_lexer": "ipython3",
   "version": "3.11.4"
  },
  "orig_nbformat": 4
 },
 "nbformat": 4,
 "nbformat_minor": 2
}
