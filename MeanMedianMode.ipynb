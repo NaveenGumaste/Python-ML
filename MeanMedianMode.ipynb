{
 "cells": [
  {
   "cell_type": "code",
   "execution_count": 1,
   "metadata": {},
   "outputs": [
    {
     "ename": "TypeError",
     "evalue": "'numpy.int64' object is not iterable",
     "output_type": "error",
     "traceback": [
      "\u001b[1;31m---------------------------------------------------------------------------\u001b[0m",
      "\u001b[1;31mTypeError\u001b[0m                                 Traceback (most recent call last)",
      "Cell \u001b[1;32mIn[1], line 12\u001b[0m\n\u001b[0;32m     10\u001b[0m median \u001b[39m=\u001b[39m marks_column\u001b[39m.\u001b[39mmedian()\n\u001b[0;32m     11\u001b[0m mode \u001b[39m=\u001b[39m stats\u001b[39m.\u001b[39mmode(marks_column)[\u001b[39m0\u001b[39m]  \u001b[39m# Get the array of modes\u001b[39;00m\n\u001b[1;32m---> 12\u001b[0m mode_str \u001b[39m=\u001b[39m \u001b[39m\"\u001b[39m\u001b[39m, \u001b[39m\u001b[39m\"\u001b[39m\u001b[39m.\u001b[39mjoin(\u001b[39mstr\u001b[39m(x) \u001b[39mfor\u001b[39;00m x \u001b[39min\u001b[39;00m mode)  \u001b[39m# Convert modes to a comma-separated string\u001b[39;00m\n\u001b[0;32m     14\u001b[0m \u001b[39mprint\u001b[39m(\u001b[39m\"\u001b[39m\u001b[39mStatistics for Marks:\u001b[39m\u001b[39m\"\u001b[39m)\n\u001b[0;32m     15\u001b[0m \u001b[39mprint\u001b[39m(\u001b[39mf\u001b[39m\u001b[39m\"\u001b[39m\u001b[39mMean: \u001b[39m\u001b[39m{\u001b[39;00mmean\u001b[39m}\u001b[39;00m\u001b[39m\"\u001b[39m)\n",
      "\u001b[1;31mTypeError\u001b[0m: 'numpy.int64' object is not iterable"
     ]
    }
   ],
   "source": [
    "import pandas as pd\n",
    "from scipy import stats\n",
    "\n",
    "data = pd.read_csv(\"marks_data.csv\")\n",
    "\n",
    "marks_column = data['marks']\n",
    "mean = marks_column.mean()\n",
    "median = marks_column.median()\n",
    "mode = stats.mode(marks_column)[0]  \n",
    "mode_str = \", \".join(str(x) for x in mode)  \n",
    "\n",
    "print(\"Statistics for Marks:\")\n",
    "print(f\"Mean: {mean}\")\n",
    "print(f\"Median: {median}\")\n",
    "print(f\"Mode: {mode_str}\")\n",
    "print(\"-\" * 20)\n",
    "\n",
    "student_statistics = {}\n",
    "for index, row in data.iterrows():\n",
    "    student_name = row['name']\n",
    "    student_marks = row['marks']\n",
    "    if student_name not in student_statistics:\n",
    "        student_statistics[student_name] = {'marks': [], 'Mean': None, 'Median': None, 'Mode': None}\n",
    "    student_statistics[student_name]['marks'].append(student_marks)\n",
    "\n",
    "for student, stats_dict in student_statistics.items():\n",
    "    marks = stats_dict['marks']\n",
    "    stats_dict['Mean'] = sum(marks) / len(marks)\n",
    "    stats_dict['Median'] = stats.median(marks)\n",
    "    mode_result = stats.mode(marks)\n",
    "    stats_dict['Mode'] = \", \".join(str(x) for x in mode_result[0])\n",
    "\n",
    "print(\"Statistics for Each Student:\")\n",
    "for student, stats_dict in student_statistics.items():\n",
    "    print(f\"Student: {student}\")\n",
    "    print(f\"Mean: {stats_dict['Mean']}\")\n",
    "    print(f\"Median: {stats_dict['Median']}\")\n",
    "    print(f\"Mode: {stats_dict['Mode']}\")\n",
    "    print(\"-\" * 20)\n"
   ]
  }
 ],
 "metadata": {
  "kernelspec": {
   "display_name": "Python 3",
   "language": "python",
   "name": "python3"
  },
  "language_info": {
   "codemirror_mode": {
    "name": "ipython",
    "version": 3
   },
   "file_extension": ".py",
   "mimetype": "text/x-python",
   "name": "python",
   "nbconvert_exporter": "python",
   "pygments_lexer": "ipython3",
   "version": "3.11.4"
  },
  "orig_nbformat": 4
 },
 "nbformat": 4,
 "nbformat_minor": 2
}
